{
 "cells": [
  {
   "cell_type": "code",
   "execution_count": 34,
   "metadata": {},
   "outputs": [],
   "source": [
    "import pandas as pd\n",
    "import numpy as np\n",
    "import matplotlib.pyplot as plt\n",
    "\n",
    "%matplotlib inline"
   ]
  },
  {
   "cell_type": "code",
   "execution_count": 35,
   "metadata": {
    "scrolled": true
   },
   "outputs": [
    {
     "data": {
      "text/html": [
       "<div>\n",
       "<style scoped>\n",
       "    .dataframe tbody tr th:only-of-type {\n",
       "        vertical-align: middle;\n",
       "    }\n",
       "\n",
       "    .dataframe tbody tr th {\n",
       "        vertical-align: top;\n",
       "    }\n",
       "\n",
       "    .dataframe thead th {\n",
       "        text-align: right;\n",
       "    }\n",
       "</style>\n",
       "<table border=\"1\" class=\"dataframe\">\n",
       "  <thead>\n",
       "    <tr style=\"text-align: right;\">\n",
       "      <th></th>\n",
       "      <th>V</th>\n",
       "      <th>Thrust</th>\n",
       "      <th>diameter</th>\n",
       "      <th>pitch</th>\n",
       "      <th>rpm</th>\n",
       "    </tr>\n",
       "  </thead>\n",
       "  <tbody>\n",
       "    <tr>\n",
       "      <th>0</th>\n",
       "      <td>0.0</td>\n",
       "      <td>0.032</td>\n",
       "      <td>10.5</td>\n",
       "      <td>4.5</td>\n",
       "      <td>1000.0</td>\n",
       "    </tr>\n",
       "    <tr>\n",
       "      <th>1</th>\n",
       "      <td>0.2</td>\n",
       "      <td>0.032</td>\n",
       "      <td>10.5</td>\n",
       "      <td>4.5</td>\n",
       "      <td>1000.0</td>\n",
       "    </tr>\n",
       "    <tr>\n",
       "      <th>2</th>\n",
       "      <td>0.4</td>\n",
       "      <td>0.031</td>\n",
       "      <td>10.5</td>\n",
       "      <td>4.5</td>\n",
       "      <td>1000.0</td>\n",
       "    </tr>\n",
       "    <tr>\n",
       "      <th>3</th>\n",
       "      <td>0.7</td>\n",
       "      <td>0.031</td>\n",
       "      <td>10.5</td>\n",
       "      <td>4.5</td>\n",
       "      <td>1000.0</td>\n",
       "    </tr>\n",
       "    <tr>\n",
       "      <th>4</th>\n",
       "      <td>0.9</td>\n",
       "      <td>0.030</td>\n",
       "      <td>10.5</td>\n",
       "      <td>4.5</td>\n",
       "      <td>1000.0</td>\n",
       "    </tr>\n",
       "  </tbody>\n",
       "</table>\n",
       "</div>"
      ],
      "text/plain": [
       "     V  Thrust  diameter  pitch     rpm\n",
       "0  0.0   0.032      10.5    4.5  1000.0\n",
       "1  0.2   0.032      10.5    4.5  1000.0\n",
       "2  0.4   0.031      10.5    4.5  1000.0\n",
       "3  0.7   0.031      10.5    4.5  1000.0\n",
       "4  0.9   0.030      10.5    4.5  1000.0"
      ]
     },
     "execution_count": 35,
     "metadata": {},
     "output_type": "execute_result"
    }
   ],
   "source": [
    "big_df = pd.read_csv('all_props_cleaned_petite.csv')\n",
    "big_df.head()"
   ]
  },
  {
   "cell_type": "code",
   "execution_count": 36,
   "metadata": {},
   "outputs": [],
   "source": [
    "import tensorflow as tf"
   ]
  },
  {
   "cell_type": "code",
   "execution_count": 37,
   "metadata": {},
   "outputs": [
    {
     "data": {
      "text/html": [
       "<div>\n",
       "<style scoped>\n",
       "    .dataframe tbody tr th:only-of-type {\n",
       "        vertical-align: middle;\n",
       "    }\n",
       "\n",
       "    .dataframe tbody tr th {\n",
       "        vertical-align: top;\n",
       "    }\n",
       "\n",
       "    .dataframe thead th {\n",
       "        text-align: right;\n",
       "    }\n",
       "</style>\n",
       "<table border=\"1\" class=\"dataframe\">\n",
       "  <thead>\n",
       "    <tr style=\"text-align: right;\">\n",
       "      <th></th>\n",
       "      <th>V</th>\n",
       "      <th>Thrust</th>\n",
       "      <th>diameter</th>\n",
       "      <th>pitch</th>\n",
       "      <th>rpm</th>\n",
       "    </tr>\n",
       "  </thead>\n",
       "  <tbody>\n",
       "    <tr>\n",
       "      <th>293474</th>\n",
       "      <td>191.0</td>\n",
       "      <td>4.365</td>\n",
       "      <td>9.0</td>\n",
       "      <td>9.0</td>\n",
       "      <td>21000.0</td>\n",
       "    </tr>\n",
       "    <tr>\n",
       "      <th>293475</th>\n",
       "      <td>198.7</td>\n",
       "      <td>3.338</td>\n",
       "      <td>9.0</td>\n",
       "      <td>9.0</td>\n",
       "      <td>21000.0</td>\n",
       "    </tr>\n",
       "    <tr>\n",
       "      <th>293476</th>\n",
       "      <td>206.3</td>\n",
       "      <td>2.277</td>\n",
       "      <td>9.0</td>\n",
       "      <td>9.0</td>\n",
       "      <td>21000.0</td>\n",
       "    </tr>\n",
       "    <tr>\n",
       "      <th>293477</th>\n",
       "      <td>214.0</td>\n",
       "      <td>1.189</td>\n",
       "      <td>9.0</td>\n",
       "      <td>9.0</td>\n",
       "      <td>21000.0</td>\n",
       "    </tr>\n",
       "    <tr>\n",
       "      <th>293478</th>\n",
       "      <td>221.6</td>\n",
       "      <td>0.009</td>\n",
       "      <td>9.0</td>\n",
       "      <td>9.0</td>\n",
       "      <td>21000.0</td>\n",
       "    </tr>\n",
       "  </tbody>\n",
       "</table>\n",
       "</div>"
      ],
      "text/plain": [
       "            V  Thrust  diameter  pitch      rpm\n",
       "293474  191.0   4.365       9.0    9.0  21000.0\n",
       "293475  198.7   3.338       9.0    9.0  21000.0\n",
       "293476  206.3   2.277       9.0    9.0  21000.0\n",
       "293477  214.0   1.189       9.0    9.0  21000.0\n",
       "293478  221.6   0.009       9.0    9.0  21000.0"
      ]
     },
     "execution_count": 37,
     "metadata": {},
     "output_type": "execute_result"
    }
   ],
   "source": [
    "dataset = big_df.copy()\n",
    "dataset.tail()"
   ]
  },
  {
   "cell_type": "code",
   "execution_count": 38,
   "metadata": {},
   "outputs": [
    {
     "data": {
      "text/plain": [
       "V           0\n",
       "Thrust      1\n",
       "diameter    0\n",
       "pitch       0\n",
       "rpm         0\n",
       "dtype: int64"
      ]
     },
     "execution_count": 38,
     "metadata": {},
     "output_type": "execute_result"
    }
   ],
   "source": [
    "dataset.isna().sum()"
   ]
  },
  {
   "cell_type": "code",
   "execution_count": 39,
   "metadata": {},
   "outputs": [],
   "source": [
    "dataset = dataset.dropna()"
   ]
  },
  {
   "cell_type": "code",
   "execution_count": 40,
   "metadata": {},
   "outputs": [
    {
     "data": {
      "text/plain": [
       "V           0\n",
       "Thrust      0\n",
       "diameter    0\n",
       "pitch       0\n",
       "rpm         0\n",
       "dtype: int64"
      ]
     },
     "execution_count": 40,
     "metadata": {},
     "output_type": "execute_result"
    }
   ],
   "source": [
    "dataset.isna().sum()"
   ]
  },
  {
   "cell_type": "code",
   "execution_count": 41,
   "metadata": {},
   "outputs": [
    {
     "data": {
      "text/html": [
       "<div>\n",
       "<style scoped>\n",
       "    .dataframe tbody tr th:only-of-type {\n",
       "        vertical-align: middle;\n",
       "    }\n",
       "\n",
       "    .dataframe tbody tr th {\n",
       "        vertical-align: top;\n",
       "    }\n",
       "\n",
       "    .dataframe thead th {\n",
       "        text-align: right;\n",
       "    }\n",
       "</style>\n",
       "<table border=\"1\" class=\"dataframe\">\n",
       "  <thead>\n",
       "    <tr style=\"text-align: right;\">\n",
       "      <th></th>\n",
       "      <th>V</th>\n",
       "      <th>Thrust</th>\n",
       "      <th>diameter</th>\n",
       "      <th>pitch</th>\n",
       "      <th>rpm</th>\n",
       "    </tr>\n",
       "  </thead>\n",
       "  <tbody>\n",
       "    <tr>\n",
       "      <th>128473</th>\n",
       "      <td>68.4</td>\n",
       "      <td>34.477</td>\n",
       "      <td>20.00</td>\n",
       "      <td>14.00</td>\n",
       "      <td>9000.0</td>\n",
       "    </tr>\n",
       "    <tr>\n",
       "      <th>216443</th>\n",
       "      <td>89.8</td>\n",
       "      <td>5.334</td>\n",
       "      <td>7.00</td>\n",
       "      <td>5.00</td>\n",
       "      <td>26000.0</td>\n",
       "    </tr>\n",
       "    <tr>\n",
       "      <th>153175</th>\n",
       "      <td>217.4</td>\n",
       "      <td>1.552</td>\n",
       "      <td>4.75</td>\n",
       "      <td>4.75</td>\n",
       "      <td>43000.0</td>\n",
       "    </tr>\n",
       "    <tr>\n",
       "      <th>101545</th>\n",
       "      <td>59.9</td>\n",
       "      <td>19.442</td>\n",
       "      <td>16.00</td>\n",
       "      <td>4.00</td>\n",
       "      <td>15000.0</td>\n",
       "    </tr>\n",
       "    <tr>\n",
       "      <th>207862</th>\n",
       "      <td>85.6</td>\n",
       "      <td>1.142</td>\n",
       "      <td>7.80</td>\n",
       "      <td>7.00</td>\n",
       "      <td>13000.0</td>\n",
       "    </tr>\n",
       "  </tbody>\n",
       "</table>\n",
       "</div>"
      ],
      "text/plain": [
       "            V  Thrust  diameter  pitch      rpm\n",
       "128473   68.4  34.477     20.00  14.00   9000.0\n",
       "216443   89.8   5.334      7.00   5.00  26000.0\n",
       "153175  217.4   1.552      4.75   4.75  43000.0\n",
       "101545   59.9  19.442     16.00   4.00  15000.0\n",
       "207862   85.6   1.142      7.80   7.00  13000.0"
      ]
     },
     "execution_count": 41,
     "metadata": {},
     "output_type": "execute_result"
    }
   ],
   "source": [
    "train_dataset = dataset.sample(frac=0.8,random_state=0)\n",
    "test_dataset = dataset.drop(train_dataset.index)\n",
    "train_dataset.tail()"
   ]
  },
  {
   "cell_type": "code",
   "execution_count": 42,
   "metadata": {},
   "outputs": [
    {
     "data": {
      "text/html": [
       "<div>\n",
       "<style scoped>\n",
       "    .dataframe tbody tr th:only-of-type {\n",
       "        vertical-align: middle;\n",
       "    }\n",
       "\n",
       "    .dataframe tbody tr th {\n",
       "        vertical-align: top;\n",
       "    }\n",
       "\n",
       "    .dataframe thead th {\n",
       "        text-align: right;\n",
       "    }\n",
       "</style>\n",
       "<table border=\"1\" class=\"dataframe\">\n",
       "  <thead>\n",
       "    <tr style=\"text-align: right;\">\n",
       "      <th></th>\n",
       "      <th>V</th>\n",
       "      <th>diameter</th>\n",
       "      <th>pitch</th>\n",
       "      <th>rpm</th>\n",
       "    </tr>\n",
       "  </thead>\n",
       "  <tbody>\n",
       "    <tr>\n",
       "      <th>112269</th>\n",
       "      <td>39.3</td>\n",
       "      <td>18.1</td>\n",
       "      <td>10.0</td>\n",
       "      <td>5000.0</td>\n",
       "    </tr>\n",
       "    <tr>\n",
       "      <th>201258</th>\n",
       "      <td>5.3</td>\n",
       "      <td>7.4</td>\n",
       "      <td>7.6</td>\n",
       "      <td>18000.0</td>\n",
       "    </tr>\n",
       "    <tr>\n",
       "      <th>185035</th>\n",
       "      <td>51.3</td>\n",
       "      <td>6.5</td>\n",
       "      <td>3.7</td>\n",
       "      <td>17000.0</td>\n",
       "    </tr>\n",
       "    <tr>\n",
       "      <th>129423</th>\n",
       "      <td>33.9</td>\n",
       "      <td>20.0</td>\n",
       "      <td>15.0</td>\n",
       "      <td>9000.0</td>\n",
       "    </tr>\n",
       "    <tr>\n",
       "      <th>13743</th>\n",
       "      <td>26.3</td>\n",
       "      <td>10.0</td>\n",
       "      <td>8.0</td>\n",
       "      <td>20000.0</td>\n",
       "    </tr>\n",
       "  </tbody>\n",
       "</table>\n",
       "</div>"
      ],
      "text/plain": [
       "           V  diameter  pitch      rpm\n",
       "112269  39.3      18.1   10.0   5000.0\n",
       "201258   5.3       7.4    7.6  18000.0\n",
       "185035  51.3       6.5    3.7  17000.0\n",
       "129423  33.9      20.0   15.0   9000.0\n",
       "13743   26.3      10.0    8.0  20000.0"
      ]
     },
     "execution_count": 42,
     "metadata": {},
     "output_type": "execute_result"
    }
   ],
   "source": [
    "train_labels = train_dataset.pop('Thrust')\n",
    "test_labels = test_dataset.pop('Thrust')\n",
    "train_dataset.head()"
   ]
  },
  {
   "cell_type": "code",
   "execution_count": 43,
   "metadata": {},
   "outputs": [
    {
     "data": {
      "text/html": [
       "<div>\n",
       "<style scoped>\n",
       "    .dataframe tbody tr th:only-of-type {\n",
       "        vertical-align: middle;\n",
       "    }\n",
       "\n",
       "    .dataframe tbody tr th {\n",
       "        vertical-align: top;\n",
       "    }\n",
       "\n",
       "    .dataframe thead th {\n",
       "        text-align: right;\n",
       "    }\n",
       "</style>\n",
       "<table border=\"1\" class=\"dataframe\">\n",
       "  <thead>\n",
       "    <tr style=\"text-align: right;\">\n",
       "      <th></th>\n",
       "      <th>count</th>\n",
       "      <th>mean</th>\n",
       "      <th>std</th>\n",
       "      <th>min</th>\n",
       "      <th>25%</th>\n",
       "      <th>50%</th>\n",
       "      <th>75%</th>\n",
       "      <th>max</th>\n",
       "    </tr>\n",
       "  </thead>\n",
       "  <tbody>\n",
       "    <tr>\n",
       "      <th>V</th>\n",
       "      <td>234782.0</td>\n",
       "      <td>49.707743</td>\n",
       "      <td>45.637459</td>\n",
       "      <td>-42.0</td>\n",
       "      <td>13.6</td>\n",
       "      <td>36.20</td>\n",
       "      <td>73.8</td>\n",
       "      <td>319.6</td>\n",
       "    </tr>\n",
       "    <tr>\n",
       "      <th>diameter</th>\n",
       "      <td>234782.0</td>\n",
       "      <td>10.523603</td>\n",
       "      <td>4.487367</td>\n",
       "      <td>4.0</td>\n",
       "      <td>7.0</td>\n",
       "      <td>9.25</td>\n",
       "      <td>13.5</td>\n",
       "      <td>27.0</td>\n",
       "    </tr>\n",
       "    <tr>\n",
       "      <th>pitch</th>\n",
       "      <td>234782.0</td>\n",
       "      <td>7.308001</td>\n",
       "      <td>3.348207</td>\n",
       "      <td>2.0</td>\n",
       "      <td>4.5</td>\n",
       "      <td>6.50</td>\n",
       "      <td>10.0</td>\n",
       "      <td>22.5</td>\n",
       "    </tr>\n",
       "    <tr>\n",
       "      <th>rpm</th>\n",
       "      <td>234782.0</td>\n",
       "      <td>12508.699700</td>\n",
       "      <td>9050.014395</td>\n",
       "      <td>1000.0</td>\n",
       "      <td>6000.0</td>\n",
       "      <td>11000.00</td>\n",
       "      <td>17000.0</td>\n",
       "      <td>45000.0</td>\n",
       "    </tr>\n",
       "  </tbody>\n",
       "</table>\n",
       "</div>"
      ],
      "text/plain": [
       "             count          mean          std     min     25%       50%  \\\n",
       "V         234782.0     49.707743    45.637459   -42.0    13.6     36.20   \n",
       "diameter  234782.0     10.523603     4.487367     4.0     7.0      9.25   \n",
       "pitch     234782.0      7.308001     3.348207     2.0     4.5      6.50   \n",
       "rpm       234782.0  12508.699700  9050.014395  1000.0  6000.0  11000.00   \n",
       "\n",
       "              75%      max  \n",
       "V            73.8    319.6  \n",
       "diameter     13.5     27.0  \n",
       "pitch        10.0     22.5  \n",
       "rpm       17000.0  45000.0  "
      ]
     },
     "execution_count": 43,
     "metadata": {},
     "output_type": "execute_result"
    }
   ],
   "source": [
    "train_stats = train_dataset.describe()\n",
    "train_stats = train_stats.transpose()\n",
    "train_stats"
   ]
  },
  {
   "cell_type": "code",
   "execution_count": 44,
   "metadata": {},
   "outputs": [
    {
     "data": {
      "text/html": [
       "<div>\n",
       "<style scoped>\n",
       "    .dataframe tbody tr th:only-of-type {\n",
       "        vertical-align: middle;\n",
       "    }\n",
       "\n",
       "    .dataframe tbody tr th {\n",
       "        vertical-align: top;\n",
       "    }\n",
       "\n",
       "    .dataframe thead th {\n",
       "        text-align: right;\n",
       "    }\n",
       "</style>\n",
       "<table border=\"1\" class=\"dataframe\">\n",
       "  <thead>\n",
       "    <tr style=\"text-align: right;\">\n",
       "      <th></th>\n",
       "      <th>V</th>\n",
       "      <th>diameter</th>\n",
       "      <th>pitch</th>\n",
       "      <th>rpm</th>\n",
       "    </tr>\n",
       "  </thead>\n",
       "  <tbody>\n",
       "    <tr>\n",
       "      <th>112269</th>\n",
       "      <td>-0.228053</td>\n",
       "      <td>1.688384</td>\n",
       "      <td>0.804012</td>\n",
       "      <td>-0.829689</td>\n",
       "    </tr>\n",
       "    <tr>\n",
       "      <th>201258</th>\n",
       "      <td>-0.973055</td>\n",
       "      <td>-0.696088</td>\n",
       "      <td>0.087211</td>\n",
       "      <td>0.606773</td>\n",
       "    </tr>\n",
       "    <tr>\n",
       "      <th>185035</th>\n",
       "      <td>0.034889</td>\n",
       "      <td>-0.896651</td>\n",
       "      <td>-1.077592</td>\n",
       "      <td>0.496275</td>\n",
       "    </tr>\n",
       "    <tr>\n",
       "      <th>129423</th>\n",
       "      <td>-0.346376</td>\n",
       "      <td>2.111795</td>\n",
       "      <td>2.297349</td>\n",
       "      <td>-0.387701</td>\n",
       "    </tr>\n",
       "    <tr>\n",
       "      <th>13743</th>\n",
       "      <td>-0.512906</td>\n",
       "      <td>-0.116684</td>\n",
       "      <td>0.206678</td>\n",
       "      <td>0.827767</td>\n",
       "    </tr>\n",
       "  </tbody>\n",
       "</table>\n",
       "</div>"
      ],
      "text/plain": [
       "               V  diameter     pitch       rpm\n",
       "112269 -0.228053  1.688384  0.804012 -0.829689\n",
       "201258 -0.973055 -0.696088  0.087211  0.606773\n",
       "185035  0.034889 -0.896651 -1.077592  0.496275\n",
       "129423 -0.346376  2.111795  2.297349 -0.387701\n",
       "13743  -0.512906 -0.116684  0.206678  0.827767"
      ]
     },
     "execution_count": 44,
     "metadata": {},
     "output_type": "execute_result"
    }
   ],
   "source": [
    "def norm(x):\n",
    "    return (x - train_stats['mean']) / train_stats['std']\n",
    "normed_train_data = norm(train_dataset)\n",
    "normed_test_data = norm(test_dataset)\n",
    "normed_train_data.head()"
   ]
  },
  {
   "cell_type": "code",
   "execution_count": 45,
   "metadata": {},
   "outputs": [
    {
     "name": "stdout",
     "output_type": "stream",
     "text": [
      "Model: \"sequential_2\"\n",
      "_________________________________________________________________\n",
      " Layer (type)                Output Shape              Param #   \n",
      "=================================================================\n",
      " dense_10 (Dense)            (None, 64)                320       \n",
      "                                                                 \n",
      " dense_11 (Dense)            (None, 64)                4160      \n",
      "                                                                 \n",
      " dense_12 (Dense)            (None, 32)                2080      \n",
      "                                                                 \n",
      " dense_13 (Dense)            (None, 16)                528       \n",
      "                                                                 \n",
      " dense_14 (Dense)            (None, 1)                 17        \n",
      "                                                                 \n",
      "=================================================================\n",
      "Total params: 7,105\n",
      "Trainable params: 7,105\n",
      "Non-trainable params: 0\n",
      "_________________________________________________________________\n"
     ]
    }
   ],
   "source": [
    "model = tf.keras.Sequential([\n",
    "    tf.keras.layers.Dense(64, activation='relu', input_shape=[len(train_dataset.keys())]),\n",
    "    tf.keras.layers.Dense(64, activation='relu'),\n",
    "    tf.keras.layers.Dense(32, activation='relu'),\n",
    "    tf.keras.layers.Dense(16, activation='relu'),\n",
    "    tf.keras.layers.Dense(1)\n",
    "  ])\n",
    "\n",
    "optimizer = tf.keras.optimizers.Adam()\n",
    "\n",
    "model.compile(loss='mse', optimizer=optimizer, metrics=['mae', 'mse'])\n",
    "\n",
    "model.summary()"
   ]
  },
  {
   "cell_type": "code",
   "execution_count": 46,
   "metadata": {
    "scrolled": true
   },
   "outputs": [
    {
     "name": "stdout",
     "output_type": "stream",
     "text": [
      "1/1 [==============================] - 0s 53ms/step\n"
     ]
    },
    {
     "data": {
      "text/plain": [
       "array([[0.28601655],\n",
       "       [0.06307764],\n",
       "       [0.20255467],\n",
       "       [0.5436908 ],\n",
       "       [0.03222061],\n",
       "       [0.0578262 ],\n",
       "       [0.16012466],\n",
       "       [0.21638502],\n",
       "       [0.02870721],\n",
       "       [0.03727667]], dtype=float32)"
      ]
     },
     "execution_count": 46,
     "metadata": {},
     "output_type": "execute_result"
    }
   ],
   "source": [
    "example_batch = normed_train_data[:10]\n",
    "example_result = model.predict(example_batch)\n",
    "example_result"
   ]
  },
  {
   "cell_type": "code",
   "execution_count": 47,
   "metadata": {
    "scrolled": true
   },
   "outputs": [
    {
     "name": "stdout",
     "output_type": "stream",
     "text": [
      "Epoch 1/100\n",
      "5870/5870 [==============================] - 8s 1ms/step - loss: 3.8241 - mae: 0.9291 - mse: 3.8241 - val_loss: 1.7910 - val_mae: 0.6887 - val_mse: 1.7910\n",
      "Epoch 2/100\n",
      "5870/5870 [==============================] - 8s 1ms/step - loss: 1.7023 - mae: 0.6902 - mse: 1.7023 - val_loss: 1.8213 - val_mae: 0.6996 - val_mse: 1.8213\n",
      "Epoch 3/100\n",
      "5870/5870 [==============================] - 9s 2ms/step - loss: 1.6129 - mae: 0.6645 - mse: 1.6129 - val_loss: 1.4562 - val_mae: 0.6141 - val_mse: 1.4562\n",
      "Epoch 4/100\n",
      "5870/5870 [==============================] - 9s 2ms/step - loss: 1.5284 - mae: 0.6389 - mse: 1.5284 - val_loss: 1.4496 - val_mae: 0.6064 - val_mse: 1.4496\n",
      "Epoch 5/100\n",
      "5870/5870 [==============================] - 9s 2ms/step - loss: 1.4852 - mae: 0.6246 - mse: 1.4852 - val_loss: 1.5369 - val_mae: 0.6310 - val_mse: 1.5369\n",
      "Epoch 6/100\n",
      "5870/5870 [==============================] - 9s 2ms/step - loss: 1.4304 - mae: 0.6076 - mse: 1.4304 - val_loss: 1.8112 - val_mae: 0.6306 - val_mse: 1.8112\n",
      "Epoch 7/100\n",
      "5870/5870 [==============================] - 9s 2ms/step - loss: 1.3988 - mae: 0.5968 - mse: 1.3988 - val_loss: 1.4139 - val_mae: 0.6032 - val_mse: 1.4139\n",
      "Epoch 8/100\n",
      "5870/5870 [==============================] - 9s 1ms/step - loss: 1.3711 - mae: 0.5906 - mse: 1.3711 - val_loss: 1.4033 - val_mae: 0.5854 - val_mse: 1.4033\n",
      "Epoch 9/100\n",
      "5870/5870 [==============================] - 9s 2ms/step - loss: 1.3451 - mae: 0.5819 - mse: 1.3451 - val_loss: 1.3565 - val_mae: 0.5722 - val_mse: 1.3565\n",
      "Epoch 10/100\n",
      "5870/5870 [==============================] - 9s 1ms/step - loss: 1.3223 - mae: 0.5783 - mse: 1.3223 - val_loss: 1.6482 - val_mae: 0.6350 - val_mse: 1.6482\n",
      "Epoch 11/100\n",
      "5870/5870 [==============================] - 9s 2ms/step - loss: 1.3111 - mae: 0.5771 - mse: 1.3111 - val_loss: 1.3971 - val_mae: 0.5904 - val_mse: 1.3971\n",
      "Epoch 12/100\n",
      "5870/5870 [==============================] - 9s 1ms/step - loss: 1.2853 - mae: 0.5707 - mse: 1.2853 - val_loss: 1.3545 - val_mae: 0.5948 - val_mse: 1.3545\n",
      "Epoch 13/100\n",
      "5870/5870 [==============================] - 9s 1ms/step - loss: 1.2694 - mae: 0.5670 - mse: 1.2694 - val_loss: 1.3047 - val_mae: 0.5643 - val_mse: 1.3047\n",
      "Epoch 14/100\n",
      "5870/5870 [==============================] - 9s 2ms/step - loss: 1.2587 - mae: 0.5645 - mse: 1.2587 - val_loss: 1.3101 - val_mae: 0.5828 - val_mse: 1.3101\n",
      "Epoch 15/100\n",
      "5870/5870 [==============================] - 9s 2ms/step - loss: 1.2501 - mae: 0.5624 - mse: 1.2501 - val_loss: 1.2562 - val_mae: 0.5626 - val_mse: 1.2562\n",
      "Epoch 16/100\n",
      "5870/5870 [==============================] - 9s 1ms/step - loss: 1.2345 - mae: 0.5596 - mse: 1.2345 - val_loss: 1.2551 - val_mae: 0.5380 - val_mse: 1.2551\n",
      "Epoch 17/100\n",
      "5870/5870 [==============================] - 9s 2ms/step - loss: 1.2225 - mae: 0.5563 - mse: 1.2225 - val_loss: 1.2454 - val_mae: 0.5533 - val_mse: 1.2454\n",
      "Epoch 18/100\n",
      "5870/5870 [==============================] - 9s 2ms/step - loss: 1.2140 - mae: 0.5543 - mse: 1.2140 - val_loss: 1.2329 - val_mae: 0.5266 - val_mse: 1.2329\n",
      "Epoch 19/100\n",
      "5870/5870 [==============================] - 9s 2ms/step - loss: 1.1957 - mae: 0.5511 - mse: 1.1957 - val_loss: 1.2391 - val_mae: 0.5665 - val_mse: 1.2391\n",
      "Epoch 20/100\n",
      "5870/5870 [==============================] - 9s 2ms/step - loss: 1.1831 - mae: 0.5465 - mse: 1.1831 - val_loss: 1.1932 - val_mae: 0.5315 - val_mse: 1.1932\n",
      "Epoch 21/100\n",
      "5870/5870 [==============================] - 9s 2ms/step - loss: 1.1755 - mae: 0.5436 - mse: 1.1755 - val_loss: 1.2450 - val_mae: 0.5475 - val_mse: 1.2450\n",
      "Epoch 22/100\n",
      "5870/5870 [==============================] - 9s 2ms/step - loss: 1.1732 - mae: 0.5419 - mse: 1.1732 - val_loss: 1.1798 - val_mae: 0.5265 - val_mse: 1.1798\n",
      "Epoch 23/100\n",
      "5870/5870 [==============================] - 9s 1ms/step - loss: 1.1491 - mae: 0.5377 - mse: 1.1491 - val_loss: 1.1631 - val_mae: 0.5298 - val_mse: 1.1631\n",
      "Epoch 24/100\n",
      "5870/5870 [==============================] - 9s 2ms/step - loss: 1.1440 - mae: 0.5362 - mse: 1.1440 - val_loss: 1.1806 - val_mae: 0.5331 - val_mse: 1.1806\n",
      "Epoch 25/100\n",
      "5870/5870 [==============================] - 9s 2ms/step - loss: 1.1339 - mae: 0.5332 - mse: 1.1339 - val_loss: 1.1891 - val_mae: 0.5437 - val_mse: 1.1891\n",
      "Epoch 26/100\n",
      "5870/5870 [==============================] - 9s 2ms/step - loss: 1.1180 - mae: 0.5300 - mse: 1.1180 - val_loss: 1.1415 - val_mae: 0.5336 - val_mse: 1.1415\n",
      "Epoch 27/100\n",
      "5870/5870 [==============================] - 9s 1ms/step - loss: 1.1043 - mae: 0.5263 - mse: 1.1043 - val_loss: 1.1327 - val_mae: 0.5176 - val_mse: 1.1327\n",
      "Epoch 28/100\n",
      "5870/5870 [==============================] - 9s 2ms/step - loss: 1.0968 - mae: 0.5239 - mse: 1.0968 - val_loss: 1.1324 - val_mae: 0.5138 - val_mse: 1.1324\n",
      "Epoch 29/100\n",
      "5870/5870 [==============================] - 9s 2ms/step - loss: 1.0759 - mae: 0.5170 - mse: 1.0759 - val_loss: 1.2282 - val_mae: 0.5678 - val_mse: 1.2282\n",
      "Epoch 30/100\n",
      "5870/5870 [==============================] - 9s 2ms/step - loss: 1.0538 - mae: 0.5121 - mse: 1.0538 - val_loss: 1.1214 - val_mae: 0.5119 - val_mse: 1.1214\n",
      "Epoch 31/100\n",
      "5870/5870 [==============================] - 9s 2ms/step - loss: 1.0343 - mae: 0.5055 - mse: 1.0343 - val_loss: 1.0586 - val_mae: 0.4973 - val_mse: 1.0586\n",
      "Epoch 32/100\n",
      "5870/5870 [==============================] - 9s 2ms/step - loss: 1.0245 - mae: 0.5013 - mse: 1.0245 - val_loss: 1.0520 - val_mae: 0.5015 - val_mse: 1.0520\n",
      "Epoch 33/100\n",
      "5870/5870 [==============================] - 9s 2ms/step - loss: 1.0097 - mae: 0.4946 - mse: 1.0097 - val_loss: 1.0768 - val_mae: 0.4894 - val_mse: 1.0768\n",
      "Epoch 34/100\n",
      "5870/5870 [==============================] - 9s 2ms/step - loss: 1.0006 - mae: 0.4920 - mse: 1.0006 - val_loss: 1.1205 - val_mae: 0.5237 - val_mse: 1.1205\n",
      "Epoch 35/100\n",
      "5870/5870 [==============================] - 9s 1ms/step - loss: 0.9971 - mae: 0.4899 - mse: 0.9971 - val_loss: 1.0809 - val_mae: 0.4853 - val_mse: 1.0809\n",
      "Epoch 36/100\n",
      "5870/5870 [==============================] - 9s 1ms/step - loss: 0.9901 - mae: 0.4868 - mse: 0.9901 - val_loss: 1.1253 - val_mae: 0.4898 - val_mse: 1.1253\n",
      "Epoch 37/100\n",
      "5870/5870 [==============================] - 9s 2ms/step - loss: 0.9800 - mae: 0.4837 - mse: 0.9800 - val_loss: 1.0413 - val_mae: 0.4893 - val_mse: 1.0413\n",
      "Epoch 38/100\n",
      "5870/5870 [==============================] - 9s 2ms/step - loss: 0.9664 - mae: 0.4801 - mse: 0.9664 - val_loss: 1.0810 - val_mae: 0.5090 - val_mse: 1.0810\n",
      "Epoch 39/100\n",
      "5870/5870 [==============================] - 9s 2ms/step - loss: 0.9625 - mae: 0.4787 - mse: 0.9625 - val_loss: 1.1685 - val_mae: 0.5088 - val_mse: 1.1685\n",
      "Epoch 40/100\n",
      "5870/5870 [==============================] - 9s 1ms/step - loss: 0.9658 - mae: 0.4765 - mse: 0.9658 - val_loss: 1.0059 - val_mae: 0.4740 - val_mse: 1.0059\n",
      "Epoch 41/100\n",
      "5870/5870 [==============================] - 9s 1ms/step - loss: 0.9492 - mae: 0.4738 - mse: 0.9492 - val_loss: 0.9847 - val_mae: 0.4858 - val_mse: 0.9847\n",
      "Epoch 42/100\n",
      "5870/5870 [==============================] - 9s 2ms/step - loss: 0.9430 - mae: 0.4716 - mse: 0.9430 - val_loss: 0.9912 - val_mae: 0.4892 - val_mse: 0.9912\n",
      "Epoch 43/100\n",
      "5870/5870 [==============================] - 9s 2ms/step - loss: 0.9448 - mae: 0.4713 - mse: 0.9448 - val_loss: 1.0539 - val_mae: 0.4699 - val_mse: 1.0539\n",
      "Epoch 44/100\n",
      "5870/5870 [==============================] - 9s 2ms/step - loss: 0.9325 - mae: 0.4682 - mse: 0.9325 - val_loss: 0.9598 - val_mae: 0.4638 - val_mse: 0.9598\n",
      "Epoch 45/100\n",
      "5870/5870 [==============================] - 9s 2ms/step - loss: 0.9337 - mae: 0.4671 - mse: 0.9337 - val_loss: 0.9941 - val_mae: 0.4888 - val_mse: 0.9941\n",
      "Epoch 46/100\n",
      "5870/5870 [==============================] - 9s 2ms/step - loss: 0.9345 - mae: 0.4683 - mse: 0.9345 - val_loss: 1.0182 - val_mae: 0.4795 - val_mse: 1.0182\n",
      "Epoch 47/100\n",
      "5870/5870 [==============================] - 9s 2ms/step - loss: 0.9218 - mae: 0.4645 - mse: 0.9218 - val_loss: 0.9965 - val_mae: 0.4660 - val_mse: 0.9965\n",
      "Epoch 48/100\n",
      "5870/5870 [==============================] - 9s 2ms/step - loss: 0.9214 - mae: 0.4661 - mse: 0.9214 - val_loss: 1.1454 - val_mae: 0.4852 - val_mse: 1.1454\n",
      "Epoch 49/100\n",
      "5870/5870 [==============================] - 9s 2ms/step - loss: 0.9161 - mae: 0.4643 - mse: 0.9161 - val_loss: 0.9942 - val_mae: 0.4718 - val_mse: 0.9942\n",
      "Epoch 50/100\n",
      "5870/5870 [==============================] - 9s 2ms/step - loss: 0.9134 - mae: 0.4632 - mse: 0.9134 - val_loss: 0.9740 - val_mae: 0.4658 - val_mse: 0.9740\n",
      "Epoch 51/100\n",
      "5870/5870 [==============================] - 9s 1ms/step - loss: 0.9091 - mae: 0.4605 - mse: 0.9091 - val_loss: 0.9965 - val_mae: 0.4691 - val_mse: 0.9965\n",
      "Epoch 52/100\n",
      "5870/5870 [==============================] - 9s 2ms/step - loss: 0.9048 - mae: 0.4603 - mse: 0.9048 - val_loss: 0.9319 - val_mae: 0.4475 - val_mse: 0.9319\n",
      "Epoch 53/100\n",
      "5870/5870 [==============================] - 9s 2ms/step - loss: 0.9030 - mae: 0.4600 - mse: 0.9030 - val_loss: 0.9115 - val_mae: 0.4568 - val_mse: 0.9115\n",
      "Epoch 54/100\n",
      "5870/5870 [==============================] - 9s 2ms/step - loss: 0.9020 - mae: 0.4593 - mse: 0.9020 - val_loss: 0.9491 - val_mae: 0.4668 - val_mse: 0.9491\n",
      "Epoch 55/100\n",
      "5870/5870 [==============================] - 9s 2ms/step - loss: 0.8915 - mae: 0.4562 - mse: 0.8915 - val_loss: 1.0397 - val_mae: 0.4729 - val_mse: 1.0397\n",
      "Epoch 56/100\n",
      "5870/5870 [==============================] - 9s 2ms/step - loss: 0.8865 - mae: 0.4574 - mse: 0.8865 - val_loss: 0.9185 - val_mae: 0.4636 - val_mse: 0.9185\n",
      "Epoch 57/100\n",
      "5870/5870 [==============================] - 9s 2ms/step - loss: 0.8852 - mae: 0.4561 - mse: 0.8852 - val_loss: 0.9433 - val_mae: 0.4692 - val_mse: 0.9433\n",
      "Epoch 58/100\n",
      "5870/5870 [==============================] - 9s 2ms/step - loss: 0.8812 - mae: 0.4550 - mse: 0.8812 - val_loss: 0.9631 - val_mae: 0.4606 - val_mse: 0.9631\n",
      "Epoch 59/100\n",
      "5870/5870 [==============================] - 9s 2ms/step - loss: 0.8757 - mae: 0.4527 - mse: 0.8757 - val_loss: 0.9495 - val_mae: 0.4569 - val_mse: 0.9495\n",
      "Epoch 60/100\n",
      "5870/5870 [==============================] - 9s 1ms/step - loss: 0.8752 - mae: 0.4523 - mse: 0.8752 - val_loss: 0.9089 - val_mae: 0.4496 - val_mse: 0.9089\n",
      "Epoch 61/100\n",
      "5870/5870 [==============================] - 7s 1ms/step - loss: 0.8726 - mae: 0.4530 - mse: 0.8726 - val_loss: 1.1031 - val_mae: 0.4839 - val_mse: 1.1031\n",
      "Epoch 62/100\n",
      "5870/5870 [==============================] - 7s 1ms/step - loss: 0.8594 - mae: 0.4486 - mse: 0.8594 - val_loss: 0.9539 - val_mae: 0.4974 - val_mse: 0.9539\n",
      "Epoch 63/100\n",
      "5870/5870 [==============================] - 7s 1ms/step - loss: 0.8615 - mae: 0.4487 - mse: 0.8615 - val_loss: 0.9536 - val_mae: 0.4659 - val_mse: 0.9536\n",
      "Epoch 64/100\n",
      "5870/5870 [==============================] - 7s 1ms/step - loss: 0.8591 - mae: 0.4495 - mse: 0.8591 - val_loss: 0.8893 - val_mae: 0.4493 - val_mse: 0.8893\n",
      "Epoch 65/100\n",
      "5870/5870 [==============================] - 7s 1ms/step - loss: 0.8601 - mae: 0.4482 - mse: 0.8601 - val_loss: 0.9005 - val_mae: 0.4395 - val_mse: 0.9005\n",
      "Epoch 66/100\n",
      "5870/5870 [==============================] - 7s 1ms/step - loss: 0.8561 - mae: 0.4469 - mse: 0.8561 - val_loss: 1.0422 - val_mae: 0.4859 - val_mse: 1.0422\n",
      "Epoch 67/100\n",
      "5870/5870 [==============================] - 7s 1ms/step - loss: 0.8552 - mae: 0.4470 - mse: 0.8552 - val_loss: 1.0596 - val_mae: 0.5382 - val_mse: 1.0596\n",
      "Epoch 68/100\n",
      "5870/5870 [==============================] - 7s 1ms/step - loss: 0.8564 - mae: 0.4473 - mse: 0.8564 - val_loss: 0.8618 - val_mae: 0.4430 - val_mse: 0.8618\n",
      "Epoch 69/100\n",
      "5870/5870 [==============================] - 7s 1ms/step - loss: 0.8459 - mae: 0.4451 - mse: 0.8459 - val_loss: 0.9444 - val_mae: 0.4712 - val_mse: 0.9444\n",
      "Epoch 70/100\n",
      "5870/5870 [==============================] - 7s 1ms/step - loss: 0.8491 - mae: 0.4453 - mse: 0.8491 - val_loss: 0.9279 - val_mae: 0.4585 - val_mse: 0.9279\n",
      "Epoch 71/100\n",
      "5870/5870 [==============================] - 7s 1ms/step - loss: 0.8436 - mae: 0.4437 - mse: 0.8436 - val_loss: 0.8869 - val_mae: 0.4413 - val_mse: 0.8869\n",
      "Epoch 72/100\n",
      "5870/5870 [==============================] - 7s 1ms/step - loss: 0.8410 - mae: 0.4425 - mse: 0.8410 - val_loss: 0.9412 - val_mae: 0.4640 - val_mse: 0.9412\n",
      "Epoch 73/100\n",
      "5870/5870 [==============================] - 7s 1ms/step - loss: 0.8424 - mae: 0.4428 - mse: 0.8424 - val_loss: 0.9280 - val_mae: 0.4585 - val_mse: 0.9280\n",
      "Epoch 74/100\n",
      "5870/5870 [==============================] - 7s 1ms/step - loss: 0.8342 - mae: 0.4431 - mse: 0.8342 - val_loss: 0.8775 - val_mae: 0.4408 - val_mse: 0.8775\n",
      "Epoch 75/100\n",
      "5870/5870 [==============================] - 7s 1ms/step - loss: 0.8369 - mae: 0.4415 - mse: 0.8369 - val_loss: 0.9090 - val_mae: 0.4585 - val_mse: 0.9090\n",
      "Epoch 76/100\n",
      "5870/5870 [==============================] - 7s 1ms/step - loss: 0.8262 - mae: 0.4381 - mse: 0.8262 - val_loss: 0.8974 - val_mae: 0.4507 - val_mse: 0.8974\n",
      "Epoch 77/100\n",
      "5870/5870 [==============================] - 7s 1ms/step - loss: 0.8337 - mae: 0.4403 - mse: 0.8337 - val_loss: 0.9494 - val_mae: 0.4572 - val_mse: 0.9494\n",
      "Epoch 78/100\n",
      "5870/5870 [==============================] - 8s 1ms/step - loss: 0.8240 - mae: 0.4395 - mse: 0.8240 - val_loss: 0.9040 - val_mae: 0.4507 - val_mse: 0.9040\n",
      "Epoch 79/100\n",
      "5870/5870 [==============================] - 7s 1ms/step - loss: 0.8230 - mae: 0.4378 - mse: 0.8230 - val_loss: 0.8703 - val_mae: 0.4362 - val_mse: 0.8703\n",
      "Epoch 80/100\n",
      "5870/5870 [==============================] - 7s 1ms/step - loss: 0.8272 - mae: 0.4391 - mse: 0.8272 - val_loss: 0.8659 - val_mae: 0.4389 - val_mse: 0.8659\n",
      "Epoch 81/100\n",
      "5870/5870 [==============================] - 7s 1ms/step - loss: 0.8235 - mae: 0.4382 - mse: 0.8235 - val_loss: 1.0451 - val_mae: 0.4778 - val_mse: 1.0451\n",
      "Epoch 82/100\n",
      "5870/5870 [==============================] - 7s 1ms/step - loss: 0.8137 - mae: 0.4349 - mse: 0.8137 - val_loss: 0.8615 - val_mae: 0.4326 - val_mse: 0.8615\n",
      "Epoch 83/100\n",
      "5870/5870 [==============================] - 7s 1ms/step - loss: 0.8195 - mae: 0.4373 - mse: 0.8195 - val_loss: 0.8931 - val_mae: 0.4603 - val_mse: 0.8931\n",
      "Epoch 84/100\n",
      "5870/5870 [==============================] - 7s 1ms/step - loss: 0.8084 - mae: 0.4350 - mse: 0.8084 - val_loss: 0.8422 - val_mae: 0.4352 - val_mse: 0.8422\n",
      "Epoch 85/100\n",
      "5870/5870 [==============================] - 7s 1ms/step - loss: 0.8102 - mae: 0.4342 - mse: 0.8102 - val_loss: 0.8542 - val_mae: 0.4404 - val_mse: 0.8542\n",
      "Epoch 86/100\n",
      "5870/5870 [==============================] - 7s 1ms/step - loss: 0.8148 - mae: 0.4350 - mse: 0.8148 - val_loss: 0.8761 - val_mae: 0.4470 - val_mse: 0.8761\n",
      "Epoch 87/100\n",
      "5870/5870 [==============================] - 7s 1ms/step - loss: 0.8057 - mae: 0.4346 - mse: 0.8057 - val_loss: 0.9091 - val_mae: 0.4454 - val_mse: 0.9091\n",
      "Epoch 88/100\n",
      "5870/5870 [==============================] - 7s 1ms/step - loss: 0.8073 - mae: 0.4329 - mse: 0.8073 - val_loss: 0.8708 - val_mae: 0.4477 - val_mse: 0.8708\n",
      "Epoch 89/100\n",
      "5870/5870 [==============================] - 7s 1ms/step - loss: 0.8162 - mae: 0.4366 - mse: 0.8162 - val_loss: 0.8726 - val_mae: 0.4471 - val_mse: 0.8726\n",
      "Epoch 90/100\n",
      "5870/5870 [==============================] - 7s 1ms/step - loss: 0.8045 - mae: 0.4335 - mse: 0.8045 - val_loss: 0.8292 - val_mae: 0.4398 - val_mse: 0.8292\n",
      "Epoch 91/100\n",
      "5870/5870 [==============================] - 7s 1ms/step - loss: 0.8046 - mae: 0.4349 - mse: 0.8046 - val_loss: 0.9208 - val_mae: 0.4634 - val_mse: 0.9208\n",
      "Epoch 92/100\n",
      "5870/5870 [==============================] - 7s 1ms/step - loss: 0.7907 - mae: 0.4309 - mse: 0.7907 - val_loss: 0.8457 - val_mae: 0.4267 - val_mse: 0.8457\n",
      "Epoch 93/100\n",
      "5870/5870 [==============================] - 7s 1ms/step - loss: 0.7981 - mae: 0.4309 - mse: 0.7981 - val_loss: 0.8404 - val_mae: 0.4434 - val_mse: 0.8404\n",
      "Epoch 94/100\n",
      "5870/5870 [==============================] - 7s 1ms/step - loss: 0.7959 - mae: 0.4319 - mse: 0.7959 - val_loss: 0.9729 - val_mae: 0.4759 - val_mse: 0.9729\n",
      "Epoch 95/100\n",
      "5870/5870 [==============================] - 7s 1ms/step - loss: 0.7992 - mae: 0.4319 - mse: 0.7992 - val_loss: 0.8908 - val_mae: 0.4527 - val_mse: 0.8908\n",
      "Epoch 96/100\n",
      "5870/5870 [==============================] - 7s 1ms/step - loss: 0.7947 - mae: 0.4315 - mse: 0.7947 - val_loss: 0.8772 - val_mae: 0.4389 - val_mse: 0.8772\n",
      "Epoch 97/100\n",
      "5870/5870 [==============================] - 7s 1ms/step - loss: 0.7889 - mae: 0.4306 - mse: 0.7889 - val_loss: 0.8830 - val_mae: 0.4419 - val_mse: 0.8830\n",
      "Epoch 98/100\n",
      "5870/5870 [==============================] - 7s 1ms/step - loss: 0.7867 - mae: 0.4296 - mse: 0.7867 - val_loss: 0.9118 - val_mae: 0.4522 - val_mse: 0.9118\n",
      "Epoch 99/100\n",
      "5870/5870 [==============================] - 7s 1ms/step - loss: 0.7865 - mae: 0.4295 - mse: 0.7865 - val_loss: 0.8700 - val_mae: 0.4499 - val_mse: 0.8700\n",
      "Epoch 100/100\n",
      "5870/5870 [==============================] - 7s 1ms/step - loss: 0.7813 - mae: 0.4281 - mse: 0.7813 - val_loss: 0.9164 - val_mae: 0.4685 - val_mse: 0.9164\n"
     ]
    }
   ],
   "source": [
    "EPOCHS = 100\n",
    "history = model.fit(normed_train_data, train_labels, epochs=EPOCHS, validation_split=0.2, verbose=1)"
   ]
  },
  {
   "cell_type": "code",
   "execution_count": 48,
   "metadata": {},
   "outputs": [
    {
     "data": {
      "text/html": [
       "<div>\n",
       "<style scoped>\n",
       "    .dataframe tbody tr th:only-of-type {\n",
       "        vertical-align: middle;\n",
       "    }\n",
       "\n",
       "    .dataframe tbody tr th {\n",
       "        vertical-align: top;\n",
       "    }\n",
       "\n",
       "    .dataframe thead th {\n",
       "        text-align: right;\n",
       "    }\n",
       "</style>\n",
       "<table border=\"1\" class=\"dataframe\">\n",
       "  <thead>\n",
       "    <tr style=\"text-align: right;\">\n",
       "      <th></th>\n",
       "      <th>loss</th>\n",
       "      <th>mae</th>\n",
       "      <th>mse</th>\n",
       "      <th>val_loss</th>\n",
       "      <th>val_mae</th>\n",
       "      <th>val_mse</th>\n",
       "      <th>epoch</th>\n",
       "    </tr>\n",
       "  </thead>\n",
       "  <tbody>\n",
       "    <tr>\n",
       "      <th>95</th>\n",
       "      <td>0.794744</td>\n",
       "      <td>0.431479</td>\n",
       "      <td>0.794744</td>\n",
       "      <td>0.877213</td>\n",
       "      <td>0.438943</td>\n",
       "      <td>0.877213</td>\n",
       "      <td>95</td>\n",
       "    </tr>\n",
       "    <tr>\n",
       "      <th>96</th>\n",
       "      <td>0.788915</td>\n",
       "      <td>0.430634</td>\n",
       "      <td>0.788915</td>\n",
       "      <td>0.883020</td>\n",
       "      <td>0.441914</td>\n",
       "      <td>0.883020</td>\n",
       "      <td>96</td>\n",
       "    </tr>\n",
       "    <tr>\n",
       "      <th>97</th>\n",
       "      <td>0.786653</td>\n",
       "      <td>0.429629</td>\n",
       "      <td>0.786653</td>\n",
       "      <td>0.911817</td>\n",
       "      <td>0.452199</td>\n",
       "      <td>0.911817</td>\n",
       "      <td>97</td>\n",
       "    </tr>\n",
       "    <tr>\n",
       "      <th>98</th>\n",
       "      <td>0.786509</td>\n",
       "      <td>0.429498</td>\n",
       "      <td>0.786509</td>\n",
       "      <td>0.870002</td>\n",
       "      <td>0.449934</td>\n",
       "      <td>0.870002</td>\n",
       "      <td>98</td>\n",
       "    </tr>\n",
       "    <tr>\n",
       "      <th>99</th>\n",
       "      <td>0.781300</td>\n",
       "      <td>0.428124</td>\n",
       "      <td>0.781300</td>\n",
       "      <td>0.916428</td>\n",
       "      <td>0.468532</td>\n",
       "      <td>0.916428</td>\n",
       "      <td>99</td>\n",
       "    </tr>\n",
       "  </tbody>\n",
       "</table>\n",
       "</div>"
      ],
      "text/plain": [
       "        loss       mae       mse  val_loss   val_mae   val_mse  epoch\n",
       "95  0.794744  0.431479  0.794744  0.877213  0.438943  0.877213     95\n",
       "96  0.788915  0.430634  0.788915  0.883020  0.441914  0.883020     96\n",
       "97  0.786653  0.429629  0.786653  0.911817  0.452199  0.911817     97\n",
       "98  0.786509  0.429498  0.786509  0.870002  0.449934  0.870002     98\n",
       "99  0.781300  0.428124  0.781300  0.916428  0.468532  0.916428     99"
      ]
     },
     "execution_count": 48,
     "metadata": {},
     "output_type": "execute_result"
    }
   ],
   "source": [
    "hist = pd.DataFrame(history.history)\n",
    "hist['epoch'] = history.epoch\n",
    "hist.tail()"
   ]
  },
  {
   "cell_type": "code",
   "execution_count": 51,
   "metadata": {},
   "outputs": [
    {
     "ename": "KeyError",
     "evalue": "'mean_absolute_error'",
     "output_type": "error",
     "traceback": [
      "\u001b[1;31m---------------------------------------------------------------------------\u001b[0m",
      "\u001b[1;31mKeyError\u001b[0m                                  Traceback (most recent call last)",
      "File \u001b[1;32mc:\\Users\\심용훈\\AppData\\Local\\Programs\\Python\\Python39\\lib\\site-packages\\pandas\\core\\indexes\\base.py:3361\u001b[0m, in \u001b[0;36mIndex.get_loc\u001b[1;34m(self, key, method, tolerance)\u001b[0m\n\u001b[0;32m   3360\u001b[0m \u001b[39mtry\u001b[39;00m:\n\u001b[1;32m-> 3361\u001b[0m     \u001b[39mreturn\u001b[39;00m \u001b[39mself\u001b[39;49m\u001b[39m.\u001b[39;49m_engine\u001b[39m.\u001b[39;49mget_loc(casted_key)\n\u001b[0;32m   3362\u001b[0m \u001b[39mexcept\u001b[39;00m \u001b[39mKeyError\u001b[39;00m \u001b[39mas\u001b[39;00m err:\n",
      "File \u001b[1;32mc:\\Users\\심용훈\\AppData\\Local\\Programs\\Python\\Python39\\lib\\site-packages\\pandas\\_libs\\index.pyx:76\u001b[0m, in \u001b[0;36mpandas._libs.index.IndexEngine.get_loc\u001b[1;34m()\u001b[0m\n",
      "File \u001b[1;32mc:\\Users\\심용훈\\AppData\\Local\\Programs\\Python\\Python39\\lib\\site-packages\\pandas\\_libs\\index.pyx:108\u001b[0m, in \u001b[0;36mpandas._libs.index.IndexEngine.get_loc\u001b[1;34m()\u001b[0m\n",
      "File \u001b[1;32mpandas\\_libs\\hashtable_class_helper.pxi:5198\u001b[0m, in \u001b[0;36mpandas._libs.hashtable.PyObjectHashTable.get_item\u001b[1;34m()\u001b[0m\n",
      "File \u001b[1;32mpandas\\_libs\\hashtable_class_helper.pxi:5206\u001b[0m, in \u001b[0;36mpandas._libs.hashtable.PyObjectHashTable.get_item\u001b[1;34m()\u001b[0m\n",
      "\u001b[1;31mKeyError\u001b[0m: 'mean_absolute_error'",
      "\nThe above exception was the direct cause of the following exception:\n",
      "\u001b[1;31mKeyError\u001b[0m                                  Traceback (most recent call last)",
      "Cell \u001b[1;32mIn[51], line 29\u001b[0m\n\u001b[0;32m     23\u001b[0m     plt\u001b[39m.\u001b[39mlegend()\n\u001b[0;32m     24\u001b[0m     plt\u001b[39m.\u001b[39mshow()\n\u001b[1;32m---> 29\u001b[0m plot_history(history)\n",
      "Cell \u001b[1;32mIn[51], line 8\u001b[0m, in \u001b[0;36mplot_history\u001b[1;34m(history)\u001b[0m\n\u001b[0;32m      6\u001b[0m plt\u001b[39m.\u001b[39mxlabel(\u001b[39m'\u001b[39m\u001b[39mEpoch\u001b[39m\u001b[39m'\u001b[39m)\n\u001b[0;32m      7\u001b[0m plt\u001b[39m.\u001b[39mylabel(\u001b[39m'\u001b[39m\u001b[39mMean Abs Error [Thrust]\u001b[39m\u001b[39m'\u001b[39m)\n\u001b[1;32m----> 8\u001b[0m plt\u001b[39m.\u001b[39mplot(hist[\u001b[39m'\u001b[39m\u001b[39mepoch\u001b[39m\u001b[39m'\u001b[39m], hist[\u001b[39m'\u001b[39;49m\u001b[39mmean_absolute_error\u001b[39;49m\u001b[39m'\u001b[39;49m],\n\u001b[0;32m      9\u001b[0m        label\u001b[39m=\u001b[39m\u001b[39m'\u001b[39m\u001b[39mTrain Error\u001b[39m\u001b[39m'\u001b[39m)\n\u001b[0;32m     10\u001b[0m plt\u001b[39m.\u001b[39mplot(hist[\u001b[39m'\u001b[39m\u001b[39mepoch\u001b[39m\u001b[39m'\u001b[39m], hist[\u001b[39m'\u001b[39m\u001b[39mval_mean_absolute_error\u001b[39m\u001b[39m'\u001b[39m],\n\u001b[0;32m     11\u001b[0m        label \u001b[39m=\u001b[39m \u001b[39m'\u001b[39m\u001b[39mVal Error\u001b[39m\u001b[39m'\u001b[39m)\n\u001b[0;32m     12\u001b[0m plt\u001b[39m.\u001b[39mylim([\u001b[39m0\u001b[39m,\u001b[39m5\u001b[39m])\n",
      "File \u001b[1;32mc:\\Users\\심용훈\\AppData\\Local\\Programs\\Python\\Python39\\lib\\site-packages\\pandas\\core\\frame.py:3458\u001b[0m, in \u001b[0;36mDataFrame.__getitem__\u001b[1;34m(self, key)\u001b[0m\n\u001b[0;32m   3456\u001b[0m \u001b[39mif\u001b[39;00m \u001b[39mself\u001b[39m\u001b[39m.\u001b[39mcolumns\u001b[39m.\u001b[39mnlevels \u001b[39m>\u001b[39m \u001b[39m1\u001b[39m:\n\u001b[0;32m   3457\u001b[0m     \u001b[39mreturn\u001b[39;00m \u001b[39mself\u001b[39m\u001b[39m.\u001b[39m_getitem_multilevel(key)\n\u001b[1;32m-> 3458\u001b[0m indexer \u001b[39m=\u001b[39m \u001b[39mself\u001b[39;49m\u001b[39m.\u001b[39;49mcolumns\u001b[39m.\u001b[39;49mget_loc(key)\n\u001b[0;32m   3459\u001b[0m \u001b[39mif\u001b[39;00m is_integer(indexer):\n\u001b[0;32m   3460\u001b[0m     indexer \u001b[39m=\u001b[39m [indexer]\n",
      "File \u001b[1;32mc:\\Users\\심용훈\\AppData\\Local\\Programs\\Python\\Python39\\lib\\site-packages\\pandas\\core\\indexes\\base.py:3363\u001b[0m, in \u001b[0;36mIndex.get_loc\u001b[1;34m(self, key, method, tolerance)\u001b[0m\n\u001b[0;32m   3361\u001b[0m         \u001b[39mreturn\u001b[39;00m \u001b[39mself\u001b[39m\u001b[39m.\u001b[39m_engine\u001b[39m.\u001b[39mget_loc(casted_key)\n\u001b[0;32m   3362\u001b[0m     \u001b[39mexcept\u001b[39;00m \u001b[39mKeyError\u001b[39;00m \u001b[39mas\u001b[39;00m err:\n\u001b[1;32m-> 3363\u001b[0m         \u001b[39mraise\u001b[39;00m \u001b[39mKeyError\u001b[39;00m(key) \u001b[39mfrom\u001b[39;00m \u001b[39merr\u001b[39;00m\n\u001b[0;32m   3365\u001b[0m \u001b[39mif\u001b[39;00m is_scalar(key) \u001b[39mand\u001b[39;00m isna(key) \u001b[39mand\u001b[39;00m \u001b[39mnot\u001b[39;00m \u001b[39mself\u001b[39m\u001b[39m.\u001b[39mhasnans:\n\u001b[0;32m   3366\u001b[0m     \u001b[39mraise\u001b[39;00m \u001b[39mKeyError\u001b[39;00m(key)\n",
      "\u001b[1;31mKeyError\u001b[0m: 'mean_absolute_error'"
     ]
    },
    {
     "data": {
      "image/png": "[encoded data removed]",
      "text/plain": [
       "<Figure size 640x480 with 1 Axes>"
      ]
     },
     "metadata": {},
     "output_type": "display_data"
    }
   ],
   "source": [
    "def plot_history(history):\n",
    "    hist = pd.DataFrame(history.history)\n",
    "    hist['epoch'] = history.epoch\n",
    "\n",
    "    plt.figure()\n",
    "    plt.xlabel('Epoch')\n",
    "    plt.ylabel('Mean Abs Error [Thrust]')\n",
    "    plt.plot(hist['epoch'], hist['mean_absolute_error'],\n",
    "           label='Train Error')\n",
    "    plt.plot(hist['epoch'], hist['val_mean_absolute_error'],\n",
    "           label = 'Val Error')\n",
    "    plt.ylim([0,5])\n",
    "    plt.legend()\n",
    "\n",
    "    plt.figure()\n",
    "    plt.xlabel('Epoch')\n",
    "    plt.ylabel('Mean Square Error [$Thrust^2$]')\n",
    "    plt.plot(hist['epoch'], hist['mean_squared_error'],\n",
    "           label='Train Error')\n",
    "    plt.plot(hist['epoch'], hist['val_mean_squared_error'],\n",
    "           label = 'Val Error')\n",
    "    plt.ylim([0,20])\n",
    "    plt.legend()\n",
    "    plt.show()\n",
    "    \n",
    "\n",
    "\n",
    "\n",
    "plot_history(history)"
   ]
  },
  {
   "cell_type": "code",
   "execution_count": null,
   "metadata": {},
   "outputs": [
    {
     "name": "stdout",
     "output_type": "stream",
     "text": [
      "58696/58696 - 1s - loss: 0.6664 - mean_absolute_error: 0.3915 - mean_squared_error: 0.6664\n",
      "Testing set Mean Abs Error:  0.39 Thrust\n"
     ]
    }
   ],
   "source": [
    "loss, mae, mse = model.evaluate(normed_test_data, test_labels, verbose=2)\n",
    "print(\"Testing set Mean Abs Error: {:5.2f} Thrust\".format(mae))"
   ]
  },
  {
   "cell_type": "code",
   "execution_count": null,
   "metadata": {},
   "outputs": [
    {
     "data": {
      "image/png": "[encoded data removed]",
      "text/plain": [
       "<Figure size 432x288 with 1 Axes>"
      ]
     },
     "metadata": {
      "needs_background": "light"
     },
     "output_type": "display_data"
    }
   ],
   "source": [
    "test_predictions = model.predict(normed_test_data).flatten()\n",
    "\n",
    "plt.scatter(test_labels, test_predictions, s=0.01)\n",
    "plt.xlabel('True Values [Thrust]')\n",
    "plt.ylabel('Predictions [Thrust]')\n",
    "plt.axis('equal')\n",
    "plt.axis('square')\n",
    "plt.xlim([0,plt.xlim()[1]])\n",
    "plt.ylim([0,plt.ylim()[1]])\n",
    "# plt.xlim([0,0.5])\n",
    "# plt.ylim([0,0.5])\n",
    "_ = plt.plot([-100, 100], [-100, 100])"
   ]
  },
  {
   "attachments": {},
   "cell_type": "markdown",
   "metadata": {},
   "source": [
    "####  Error Distribution"
   ]
  },
  {
   "cell_type": "code",
   "execution_count": null,
   "metadata": {},
   "outputs": [
    {
     "data": {
      "image/png": "[encoded data removed]",
      "text/plain": [
       "<Figure size 432x288 with 1 Axes>"
      ]
     },
     "metadata": {
      "needs_background": "light"
     },
     "output_type": "display_data"
    }
   ],
   "source": [
    "error = test_predictions - test_labels\n",
    "plt.hist(error, bins = 200)\n",
    "plt.xlabel(\"Prediction Error [Thrust]\")\n",
    "_ = plt.ylabel(\"Count\")"
   ]
  },
  {
   "attachments": {},
   "cell_type": "markdown",
   "metadata": {},
   "source": [
    "## <center>Some Test Cases</center>"
   ]
  },
  {
   "cell_type": "code",
   "execution_count": null,
   "metadata": {
    "scrolled": true
   },
   "outputs": [
    {
     "name": "stdout",
     "output_type": "stream",
     "text": [
      "      V  diameter  pitch     rpm\n",
      "0  14.3      10.5    4.5  3000.0\n",
      "          V  diameter     pitch       rpm\n",
      "0 -0.775848  -0.00526 -0.838658 -1.050683\n"
     ]
    },
    {
     "data": {
      "text/plain": [
       "array([[0.15609908]], dtype=float32)"
      ]
     },
     "execution_count": 20,
     "metadata": {},
     "output_type": "execute_result"
    }
   ],
   "source": [
    "input_df = pd.DataFrame([14.3,10.5,4.5,3000]).T\n",
    "input_df.columns = ['V', 'diameter', 'pitch', 'rpm']\n",
    "print(input_df)\n",
    "print(norm(input_df))\n",
    "model.predict(norm(input_df))\n",
    "# thrust should be: 0.096"
   ]
  },
  {
   "cell_type": "code",
   "execution_count": null,
   "metadata": {},
   "outputs": [
    {
     "name": "stdout",
     "output_type": "stream",
     "text": [
      "      V  diameter  pitch      rpm\n",
      "0  27.6       5.5    4.5  37000.0\n",
      "          V  diameter     pitch       rpm\n",
      "0 -0.484421 -1.119499 -0.838658  2.706217\n"
     ]
    },
    {
     "data": {
      "text/plain": [
       "array([[5.7114153]], dtype=float32)"
      ]
     },
     "execution_count": 21,
     "metadata": {},
     "output_type": "execute_result"
    }
   ],
   "source": [
    "input_df = pd.DataFrame([27.6,5.5,4.5,37000]).T\n",
    "input_df.columns = ['V', 'diameter', 'pitch', 'rpm']\n",
    "print(input_df)\n",
    "print(norm(input_df))\n",
    "model.predict(norm(input_df))\n",
    "# thrust should be: 5.112"
   ]
  },
  {
   "cell_type": "code",
   "execution_count": null,
   "metadata": {},
   "outputs": [
    {
     "name": "stdout",
     "output_type": "stream",
     "text": [
      "      V  diameter  pitch      rpm\n",
      "0  54.1       8.5    7.0  13000.0\n",
      "          V  diameter    pitch       rpm\n",
      "0  0.096242 -0.450955 -0.09199  0.054287\n"
     ]
    },
    {
     "data": {
      "text/plain": [
       "array([[2.2381108]], dtype=float32)"
      ]
     },
     "execution_count": 22,
     "metadata": {},
     "output_type": "execute_result"
    }
   ],
   "source": [
    "input_df = pd.DataFrame([54.1,8.5,7,13000]).T\n",
    "input_df.columns = ['V', 'diameter', 'pitch', 'rpm']\n",
    "print(input_df)\n",
    "print(norm(input_df))\n",
    "model.predict(norm(input_df))\n",
    "# thrust should be: 2.442"
   ]
  },
  {
   "cell_type": "code",
   "execution_count": null,
   "metadata": {},
   "outputs": [
    {
     "name": "stdout",
     "output_type": "stream",
     "text": [
      "      V  diameter  pitch     rpm\n",
      "0  20.1      11.0    7.0  6000.0\n",
      "         V  diameter    pitch       rpm\n",
      "0 -0.64876  0.106164 -0.09199 -0.719192\n"
     ]
    },
    {
     "data": {
      "text/plain": [
       "array([[1.9325039]], dtype=float32)"
      ]
     },
     "execution_count": 23,
     "metadata": {},
     "output_type": "execute_result"
    }
   ],
   "source": [
    "input_df = pd.DataFrame([20.1,11,7,6000]).T\n",
    "input_df.columns = ['V', 'diameter', 'pitch', 'rpm']\n",
    "print(input_df)\n",
    "print(norm(input_df))\n",
    "model.predict(norm(input_df))\n",
    "# thrust should be: 1.558"
   ]
  },
  {
   "attachments": {},
   "cell_type": "markdown",
   "metadata": {},
   "source": [
    "## <center>GUI</center>"
   ]
  },
  {
   "cell_type": "code",
   "execution_count": null,
   "metadata": {},
   "outputs": [
    {
     "name": "stdout",
     "output_type": "stream",
     "text": [
      "Prop is available in dataset\n",
      "only one prop\n"
     ]
    },
    {
     "data": {
      "image/png": "[encoded data removed]",
      "text/plain": [
       "<Figure size 432x288 with 1 Axes>"
      ]
     },
     "metadata": {
      "needs_background": "light"
     },
     "output_type": "display_data"
    }
   ],
   "source": [
    "diam = 16\n",
    "pitch = 10\n",
    "rpm = 13999\n",
    "V_values = list(np.linspace(0,200,num=800))\n",
    "\n",
    "# Predicted Data:\n",
    "T_values = []\n",
    "for V_value in V_values:\n",
    "    input_df = pd.DataFrame([V_value,diam,pitch,rpm]).T\n",
    "    input_df.columns = ['V', 'diameter', 'pitch', 'rpm']\n",
    "#     print(input_df)\n",
    "#     print(norm(input_df))\n",
    "    T_values.append(model.predict(norm(input_df))[0][0])\n",
    "    \n",
    "plt.plot(V_values, T_values, label='Predicted Data')\n",
    "\n",
    "# Real Data:\n",
    "prop_df = dataset.loc[dataset['diameter'] == diam].loc[dataset['pitch'] == pitch].loc[dataset['rpm'] == rpm]\n",
    "if prop_df.shape[0] > 3:    # prop is available in the dataset\n",
    "    print('Prop is available in dataset')\n",
    "    if prop_df.loc[prop_df['V'] == 0].index.shape[0] > 1:    # if there are multiple similar props\n",
    "        V_real = prop_df['V'].loc[int(prop_df.loc[prop_df['V'] == 0].index[0]):int(prop_df.loc[prop_df['V'] == 0].index[1]-1)]\n",
    "        T_real = prop_df['Thrust'].loc[int(prop_df.loc[prop_df['V'] == 0].index[0]):int(prop_df.loc[prop_df['V'] == 0].index[1]-1)]\n",
    "        print('multiple props')\n",
    "    else:    # Only one prop\n",
    "        V_real = prop_df['V']\n",
    "        T_real = prop_df['Thrust']\n",
    "        print('only one prop')\n",
    "\n",
    "    plt.plot(V_real, T_real, label='Real Data')\n",
    "    plt.xlim([0,V_real.iloc[-1]])\n",
    "else:\n",
    "    print('Prop not available in dataset')\n",
    "\n",
    "\n",
    "plt.ylim([0,plt.ylim()[1]])\n",
    "plt.xlabel('V in MPH')\n",
    "plt.ylabel('Thrust in lbf')\n",
    "plt.legend()\n",
    "plt.grid(True)\n",
    "plt.show()"
   ]
  },
  {
   "cell_type": "code",
   "execution_count": null,
   "metadata": {},
   "outputs": [],
   "source": [
    "model.save('Fitting_model.h5')"
   ]
  },
  {
   "cell_type": "code",
   "execution_count": null,
   "metadata": {},
   "outputs": [],
   "source": []
  },
  {
   "cell_type": "code",
   "execution_count": null,
   "metadata": {},
   "outputs": [],
   "source": []
  }
 ],
 "metadata": {
  "kernelspec": {
   "display_name": "Python 3 (ipykernel)",
   "language": "python",
   "name": "python3"
  },
  "language_info": {
   "codemirror_mode": {
    "name": "ipython",
    "version": 3
   },
   "file_extension": ".py",
   "mimetype": "text/x-python",
   "name": "python",
   "nbconvert_exporter": "python",
   "pygments_lexer": "ipython3",
   "version": "3.9.7"
  }
 },
 "nbformat": 4,
 "nbformat_minor": 2
}
